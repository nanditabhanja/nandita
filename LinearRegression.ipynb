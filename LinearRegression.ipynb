{
 "cells": [
  {
   "cell_type": "code",
   "execution_count": 24,
   "id": "d5ac4e99-f74b-4d29-a585-32276bd5aa27",
   "metadata": {},
   "outputs": [],
   "source": [
    "#Linear Regression for Year prediction dataset"
   ]
  },
  {
   "cell_type": "code",
   "execution_count": 25,
   "id": "789a9648-30c6-41ae-9362-714f5ef85cdc",
   "metadata": {},
   "outputs": [],
   "source": [
    "#import all libraries\n",
    "from sklearn.linear_model import LinearRegression\n",
    "from sklearn import metrics\n",
    "from sklearn.model_selection import train_test_split\n",
    "import pandas as pd\n",
    "import numpy as np\n",
    "import matplotlib.pyplot as plt\n",
    "import seaborn as sns"
   ]
  },
  {
   "cell_type": "code",
   "execution_count": 26,
   "id": "e544fd84-e519-47a9-ad67-3636a82ac20c",
   "metadata": {},
   "outputs": [
    {
     "data": {
      "text/html": [
       "<div>\n",
       "<style scoped>\n",
       "    .dataframe tbody tr th:only-of-type {\n",
       "        vertical-align: middle;\n",
       "    }\n",
       "\n",
       "    .dataframe tbody tr th {\n",
       "        vertical-align: top;\n",
       "    }\n",
       "\n",
       "    .dataframe thead th {\n",
       "        text-align: right;\n",
       "    }\n",
       "</style>\n",
       "<table border=\"1\" class=\"dataframe\">\n",
       "  <thead>\n",
       "    <tr style=\"text-align: right;\">\n",
       "      <th></th>\n",
       "      <th>2001</th>\n",
       "      <th>49.94357</th>\n",
       "      <th>21.47114</th>\n",
       "      <th>73.07750</th>\n",
       "      <th>8.74861</th>\n",
       "      <th>-17.40628</th>\n",
       "      <th>-13.09905</th>\n",
       "      <th>-25.01202</th>\n",
       "      <th>-12.23257</th>\n",
       "      <th>7.83089</th>\n",
       "      <th>...</th>\n",
       "      <th>13.01620</th>\n",
       "      <th>-54.40548</th>\n",
       "      <th>58.99367</th>\n",
       "      <th>15.37344</th>\n",
       "      <th>1.11144</th>\n",
       "      <th>-23.08793</th>\n",
       "      <th>68.40795</th>\n",
       "      <th>-1.82223</th>\n",
       "      <th>-27.46348</th>\n",
       "      <th>2.26327</th>\n",
       "    </tr>\n",
       "  </thead>\n",
       "  <tbody>\n",
       "    <tr>\n",
       "      <th>0</th>\n",
       "      <td>2001</td>\n",
       "      <td>48.73215</td>\n",
       "      <td>18.42930</td>\n",
       "      <td>70.32679</td>\n",
       "      <td>12.94636</td>\n",
       "      <td>-10.32437</td>\n",
       "      <td>-24.83777</td>\n",
       "      <td>8.76630</td>\n",
       "      <td>-0.92019</td>\n",
       "      <td>18.76548</td>\n",
       "      <td>...</td>\n",
       "      <td>5.66812</td>\n",
       "      <td>-19.68073</td>\n",
       "      <td>33.04964</td>\n",
       "      <td>42.87836</td>\n",
       "      <td>-9.90378</td>\n",
       "      <td>-32.22788</td>\n",
       "      <td>70.49388</td>\n",
       "      <td>12.04941</td>\n",
       "      <td>58.43453</td>\n",
       "      <td>26.92061</td>\n",
       "    </tr>\n",
       "    <tr>\n",
       "      <th>1</th>\n",
       "      <td>2001</td>\n",
       "      <td>50.95714</td>\n",
       "      <td>31.85602</td>\n",
       "      <td>55.81851</td>\n",
       "      <td>13.41693</td>\n",
       "      <td>-6.57898</td>\n",
       "      <td>-18.54940</td>\n",
       "      <td>-3.27872</td>\n",
       "      <td>-2.35035</td>\n",
       "      <td>16.07017</td>\n",
       "      <td>...</td>\n",
       "      <td>3.03800</td>\n",
       "      <td>26.05866</td>\n",
       "      <td>-50.92779</td>\n",
       "      <td>10.93792</td>\n",
       "      <td>-0.07568</td>\n",
       "      <td>43.20130</td>\n",
       "      <td>-115.00698</td>\n",
       "      <td>-0.05859</td>\n",
       "      <td>39.67068</td>\n",
       "      <td>-0.66345</td>\n",
       "    </tr>\n",
       "    <tr>\n",
       "      <th>2</th>\n",
       "      <td>2001</td>\n",
       "      <td>48.24750</td>\n",
       "      <td>-1.89837</td>\n",
       "      <td>36.29772</td>\n",
       "      <td>2.58776</td>\n",
       "      <td>0.97170</td>\n",
       "      <td>-26.21683</td>\n",
       "      <td>5.05097</td>\n",
       "      <td>-10.34124</td>\n",
       "      <td>3.55005</td>\n",
       "      <td>...</td>\n",
       "      <td>34.57337</td>\n",
       "      <td>-171.70734</td>\n",
       "      <td>-16.96705</td>\n",
       "      <td>-46.67617</td>\n",
       "      <td>-12.51516</td>\n",
       "      <td>82.58061</td>\n",
       "      <td>-72.08993</td>\n",
       "      <td>9.90558</td>\n",
       "      <td>199.62971</td>\n",
       "      <td>18.85382</td>\n",
       "    </tr>\n",
       "    <tr>\n",
       "      <th>3</th>\n",
       "      <td>2001</td>\n",
       "      <td>50.97020</td>\n",
       "      <td>42.20998</td>\n",
       "      <td>67.09964</td>\n",
       "      <td>8.46791</td>\n",
       "      <td>-15.85279</td>\n",
       "      <td>-16.81409</td>\n",
       "      <td>-12.48207</td>\n",
       "      <td>-9.37636</td>\n",
       "      <td>12.63699</td>\n",
       "      <td>...</td>\n",
       "      <td>9.92661</td>\n",
       "      <td>-55.95724</td>\n",
       "      <td>64.92712</td>\n",
       "      <td>-17.72522</td>\n",
       "      <td>-1.49237</td>\n",
       "      <td>-7.50035</td>\n",
       "      <td>51.76631</td>\n",
       "      <td>7.88713</td>\n",
       "      <td>55.66926</td>\n",
       "      <td>28.74903</td>\n",
       "    </tr>\n",
       "    <tr>\n",
       "      <th>4</th>\n",
       "      <td>2001</td>\n",
       "      <td>50.54767</td>\n",
       "      <td>0.31568</td>\n",
       "      <td>92.35066</td>\n",
       "      <td>22.38696</td>\n",
       "      <td>-25.51870</td>\n",
       "      <td>-19.04928</td>\n",
       "      <td>20.67345</td>\n",
       "      <td>-5.19943</td>\n",
       "      <td>3.63566</td>\n",
       "      <td>...</td>\n",
       "      <td>6.59753</td>\n",
       "      <td>-50.69577</td>\n",
       "      <td>26.02574</td>\n",
       "      <td>18.94430</td>\n",
       "      <td>-0.33730</td>\n",
       "      <td>6.09352</td>\n",
       "      <td>35.18381</td>\n",
       "      <td>5.00283</td>\n",
       "      <td>-11.02257</td>\n",
       "      <td>0.02263</td>\n",
       "    </tr>\n",
       "    <tr>\n",
       "      <th>...</th>\n",
       "      <td>...</td>\n",
       "      <td>...</td>\n",
       "      <td>...</td>\n",
       "      <td>...</td>\n",
       "      <td>...</td>\n",
       "      <td>...</td>\n",
       "      <td>...</td>\n",
       "      <td>...</td>\n",
       "      <td>...</td>\n",
       "      <td>...</td>\n",
       "      <td>...</td>\n",
       "      <td>...</td>\n",
       "      <td>...</td>\n",
       "      <td>...</td>\n",
       "      <td>...</td>\n",
       "      <td>...</td>\n",
       "      <td>...</td>\n",
       "      <td>...</td>\n",
       "      <td>...</td>\n",
       "      <td>...</td>\n",
       "      <td>...</td>\n",
       "    </tr>\n",
       "    <tr>\n",
       "      <th>515339</th>\n",
       "      <td>2006</td>\n",
       "      <td>51.28467</td>\n",
       "      <td>45.88068</td>\n",
       "      <td>22.19582</td>\n",
       "      <td>-5.53319</td>\n",
       "      <td>-3.61835</td>\n",
       "      <td>-16.36914</td>\n",
       "      <td>2.12652</td>\n",
       "      <td>5.18160</td>\n",
       "      <td>-8.66890</td>\n",
       "      <td>...</td>\n",
       "      <td>4.81440</td>\n",
       "      <td>-3.75991</td>\n",
       "      <td>-30.92584</td>\n",
       "      <td>26.33968</td>\n",
       "      <td>-5.03390</td>\n",
       "      <td>21.86037</td>\n",
       "      <td>-142.29410</td>\n",
       "      <td>3.42901</td>\n",
       "      <td>-41.14721</td>\n",
       "      <td>-15.46052</td>\n",
       "    </tr>\n",
       "    <tr>\n",
       "      <th>515340</th>\n",
       "      <td>2006</td>\n",
       "      <td>49.87870</td>\n",
       "      <td>37.93125</td>\n",
       "      <td>18.65987</td>\n",
       "      <td>-3.63581</td>\n",
       "      <td>-27.75665</td>\n",
       "      <td>-18.52988</td>\n",
       "      <td>7.76108</td>\n",
       "      <td>3.56109</td>\n",
       "      <td>-2.50351</td>\n",
       "      <td>...</td>\n",
       "      <td>32.38589</td>\n",
       "      <td>-32.75535</td>\n",
       "      <td>-61.05473</td>\n",
       "      <td>56.65182</td>\n",
       "      <td>15.29965</td>\n",
       "      <td>95.88193</td>\n",
       "      <td>-10.63242</td>\n",
       "      <td>12.96552</td>\n",
       "      <td>92.11633</td>\n",
       "      <td>10.88815</td>\n",
       "    </tr>\n",
       "    <tr>\n",
       "      <th>515341</th>\n",
       "      <td>2006</td>\n",
       "      <td>45.12852</td>\n",
       "      <td>12.65758</td>\n",
       "      <td>-38.72018</td>\n",
       "      <td>8.80882</td>\n",
       "      <td>-29.29985</td>\n",
       "      <td>-2.28706</td>\n",
       "      <td>-18.40424</td>\n",
       "      <td>-22.28726</td>\n",
       "      <td>-4.52429</td>\n",
       "      <td>...</td>\n",
       "      <td>-18.73598</td>\n",
       "      <td>-71.15954</td>\n",
       "      <td>-123.98443</td>\n",
       "      <td>121.26989</td>\n",
       "      <td>10.89629</td>\n",
       "      <td>34.62409</td>\n",
       "      <td>-248.61020</td>\n",
       "      <td>-6.07171</td>\n",
       "      <td>53.96319</td>\n",
       "      <td>-8.09364</td>\n",
       "    </tr>\n",
       "    <tr>\n",
       "      <th>515342</th>\n",
       "      <td>2006</td>\n",
       "      <td>44.16614</td>\n",
       "      <td>32.38368</td>\n",
       "      <td>-3.34971</td>\n",
       "      <td>-2.49165</td>\n",
       "      <td>-19.59278</td>\n",
       "      <td>-18.67098</td>\n",
       "      <td>8.78428</td>\n",
       "      <td>4.02039</td>\n",
       "      <td>-12.01230</td>\n",
       "      <td>...</td>\n",
       "      <td>67.16763</td>\n",
       "      <td>282.77624</td>\n",
       "      <td>-4.63677</td>\n",
       "      <td>144.00125</td>\n",
       "      <td>21.62652</td>\n",
       "      <td>-29.72432</td>\n",
       "      <td>71.47198</td>\n",
       "      <td>20.32240</td>\n",
       "      <td>14.83107</td>\n",
       "      <td>39.74909</td>\n",
       "    </tr>\n",
       "    <tr>\n",
       "      <th>515343</th>\n",
       "      <td>2005</td>\n",
       "      <td>51.85726</td>\n",
       "      <td>59.11655</td>\n",
       "      <td>26.39436</td>\n",
       "      <td>-5.46030</td>\n",
       "      <td>-20.69012</td>\n",
       "      <td>-19.95528</td>\n",
       "      <td>-6.72771</td>\n",
       "      <td>2.29590</td>\n",
       "      <td>10.31018</td>\n",
       "      <td>...</td>\n",
       "      <td>-11.50511</td>\n",
       "      <td>-69.18291</td>\n",
       "      <td>60.58456</td>\n",
       "      <td>28.64599</td>\n",
       "      <td>-4.39620</td>\n",
       "      <td>-64.56491</td>\n",
       "      <td>-45.61012</td>\n",
       "      <td>-5.51512</td>\n",
       "      <td>32.35602</td>\n",
       "      <td>12.17352</td>\n",
       "    </tr>\n",
       "  </tbody>\n",
       "</table>\n",
       "<p>515344 rows × 91 columns</p>\n",
       "</div>"
      ],
      "text/plain": [
       "        2001  49.94357  21.47114  73.07750   8.74861  -17.40628  -13.09905  \\\n",
       "0       2001  48.73215  18.42930  70.32679  12.94636  -10.32437  -24.83777   \n",
       "1       2001  50.95714  31.85602  55.81851  13.41693   -6.57898  -18.54940   \n",
       "2       2001  48.24750  -1.89837  36.29772   2.58776    0.97170  -26.21683   \n",
       "3       2001  50.97020  42.20998  67.09964   8.46791  -15.85279  -16.81409   \n",
       "4       2001  50.54767   0.31568  92.35066  22.38696  -25.51870  -19.04928   \n",
       "...      ...       ...       ...       ...       ...        ...        ...   \n",
       "515339  2006  51.28467  45.88068  22.19582  -5.53319   -3.61835  -16.36914   \n",
       "515340  2006  49.87870  37.93125  18.65987  -3.63581  -27.75665  -18.52988   \n",
       "515341  2006  45.12852  12.65758 -38.72018   8.80882  -29.29985   -2.28706   \n",
       "515342  2006  44.16614  32.38368  -3.34971  -2.49165  -19.59278  -18.67098   \n",
       "515343  2005  51.85726  59.11655  26.39436  -5.46030  -20.69012  -19.95528   \n",
       "\n",
       "        -25.01202  -12.23257   7.83089  ...  13.01620  -54.40548   58.99367  \\\n",
       "0         8.76630   -0.92019  18.76548  ...   5.66812  -19.68073   33.04964   \n",
       "1        -3.27872   -2.35035  16.07017  ...   3.03800   26.05866  -50.92779   \n",
       "2         5.05097  -10.34124   3.55005  ...  34.57337 -171.70734  -16.96705   \n",
       "3       -12.48207   -9.37636  12.63699  ...   9.92661  -55.95724   64.92712   \n",
       "4        20.67345   -5.19943   3.63566  ...   6.59753  -50.69577   26.02574   \n",
       "...           ...        ...       ...  ...       ...        ...        ...   \n",
       "515339    2.12652    5.18160  -8.66890  ...   4.81440   -3.75991  -30.92584   \n",
       "515340    7.76108    3.56109  -2.50351  ...  32.38589  -32.75535  -61.05473   \n",
       "515341  -18.40424  -22.28726  -4.52429  ... -18.73598  -71.15954 -123.98443   \n",
       "515342    8.78428    4.02039 -12.01230  ...  67.16763  282.77624   -4.63677   \n",
       "515343   -6.72771    2.29590  10.31018  ... -11.50511  -69.18291   60.58456   \n",
       "\n",
       "         15.37344   1.11144  -23.08793   68.40795  -1.82223  -27.46348  \\\n",
       "0        42.87836  -9.90378  -32.22788   70.49388  12.04941   58.43453   \n",
       "1        10.93792  -0.07568   43.20130 -115.00698  -0.05859   39.67068   \n",
       "2       -46.67617 -12.51516   82.58061  -72.08993   9.90558  199.62971   \n",
       "3       -17.72522  -1.49237   -7.50035   51.76631   7.88713   55.66926   \n",
       "4        18.94430  -0.33730    6.09352   35.18381   5.00283  -11.02257   \n",
       "...           ...       ...        ...        ...       ...        ...   \n",
       "515339   26.33968  -5.03390   21.86037 -142.29410   3.42901  -41.14721   \n",
       "515340   56.65182  15.29965   95.88193  -10.63242  12.96552   92.11633   \n",
       "515341  121.26989  10.89629   34.62409 -248.61020  -6.07171   53.96319   \n",
       "515342  144.00125  21.62652  -29.72432   71.47198  20.32240   14.83107   \n",
       "515343   28.64599  -4.39620  -64.56491  -45.61012  -5.51512   32.35602   \n",
       "\n",
       "         2.26327  \n",
       "0       26.92061  \n",
       "1       -0.66345  \n",
       "2       18.85382  \n",
       "3       28.74903  \n",
       "4        0.02263  \n",
       "...          ...  \n",
       "515339 -15.46052  \n",
       "515340  10.88815  \n",
       "515341  -8.09364  \n",
       "515342  39.74909  \n",
       "515343  12.17352  \n",
       "\n",
       "[515344 rows x 91 columns]"
      ]
     },
     "execution_count": 26,
     "metadata": {},
     "output_type": "execute_result"
    }
   ],
   "source": [
    "#dataset Link: https://archive.ics.uci.edu/dataset/203/yearpredictionmsd\n",
    "year = pd.read_csv('YearPredictionMSD.txt')\n",
    "year"
   ]
  },
  {
   "cell_type": "code",
   "execution_count": 27,
   "id": "5add0993-7da1-4899-b401-ecd6d86db532",
   "metadata": {},
   "outputs": [],
   "source": [
    "x = year.iloc[:,1:].to_numpy(dtype=np.float32)\n",
    "y = year.iloc[:,0].to_numpy(dtype=np.float32)"
   ]
  },
  {
   "cell_type": "code",
   "execution_count": 28,
   "id": "209726de-af17-4cd6-ae78-33c5bc92a428",
   "metadata": {},
   "outputs": [],
   "source": [
    "#Train test split\n",
    "x_train,x_test,y_train,y_test = train_test_split(x,y,test_size=0.1,random_state=0)"
   ]
  },
  {
   "cell_type": "code",
   "execution_count": 29,
   "id": "1900f588-a713-4c87-8cd0-562447a63ff3",
   "metadata": {},
   "outputs": [],
   "source": [
    "#Normalize the data\n",
    "from sklearn.preprocessing import MinMaxScaler,StandardScaler\n",
    "scaler_x = MinMaxScaler()\n",
    "scaler_y = StandardScaler()"
   ]
  },
  {
   "cell_type": "code",
   "execution_count": 30,
   "id": "0271b497-a70a-44b7-b855-3cf99529b107",
   "metadata": {},
   "outputs": [],
   "source": [
    "scaler_x.fit(x_train)\n",
    "x_train = scaler_x.transform(x_train)\n",
    "x_test = scaler_x.transform(x_test)\n",
    "\n",
    "y_train = scaler_y.fit_transform(y_train.reshape(-1,1)).flatten()\n",
    "y_test = scaler_y.transform(y_test.reshape(-1,1)).flatten()"
   ]
  },
  {
   "cell_type": "code",
   "execution_count": 31,
   "id": "60775b47-33e4-4c08-a436-77bc2975c1fd",
   "metadata": {},
   "outputs": [],
   "source": [
    "#import intel extension for optimizattion"
   ]
  },
  {
   "cell_type": "code",
   "execution_count": 32,
   "id": "044106d2-b14b-4a9f-a482-0a4be1ba77c4",
   "metadata": {},
   "outputs": [
    {
     "name": "stdout",
     "output_type": "stream",
     "text": [
      "Defaulting to user installation because normal site-packages is not writeable\n",
      "Requirement already satisfied: scikit-learn-intelex in /usr/local/lib/python3.9/site-packages (2024.3.0)\n",
      "Requirement already satisfied: scikit-learn>=0.22 in /usr/local/lib64/python3.9/site-packages (from scikit-learn-intelex) (1.4.2)\n",
      "Requirement already satisfied: daal4py==2024.3.0 in /usr/local/lib/python3.9/site-packages (from scikit-learn-intelex) (2024.3.0)\n",
      "Requirement already satisfied: threadpoolctl>=2.0.0 in /usr/local/lib/python3.9/site-packages (from scikit-learn>=0.22->scikit-learn-intelex) (3.5.0)\n",
      "Requirement already satisfied: scipy>=1.6.0 in /usr/local/lib64/python3.9/site-packages (from scikit-learn>=0.22->scikit-learn-intelex) (1.13.0)\n",
      "Requirement already satisfied: numpy>=1.19.5 in /usr/local/lib64/python3.9/site-packages (from scikit-learn>=0.22->scikit-learn-intelex) (1.26.4)\n",
      "Requirement already satisfied: joblib>=1.2.0 in /usr/local/lib/python3.9/site-packages (from scikit-learn>=0.22->scikit-learn-intelex) (1.4.2)\n",
      "Requirement already satisfied: daal==2024.3.0 in /usr/local/lib/python3.9/site-packages (from daal4py==2024.3.0->scikit-learn-intelex) (2024.3.0)\n",
      "Requirement already satisfied: tbb==2021.* in /usr/local/lib/python3.9/site-packages (from daal==2024.3.0->daal4py==2024.3.0->scikit-learn-intelex) (2021.12.0)\n"
     ]
    }
   ],
   "source": [
    "!pip3.9 install scikit-learn-intelex"
   ]
  },
  {
   "cell_type": "code",
   "execution_count": 33,
   "id": "209dff7e-d27f-4934-8f66-e85cba2c23f7",
   "metadata": {},
   "outputs": [
    {
     "name": "stderr",
     "output_type": "stream",
     "text": [
      "Intel(R) Extension for Scikit-learn* enabled (https://github.com/intel/scikit-learn-intelex)\n"
     ]
    }
   ],
   "source": [
    "from sklearnex import patch_sklearn\n",
    "patch_sklearn()"
   ]
  },
  {
   "cell_type": "code",
   "execution_count": 34,
   "id": "30368c79-6a37-4a8f-ac28-55928ef88989",
   "metadata": {},
   "outputs": [
    {
     "data": {
      "text/plain": [
       "'Intel extension for Scikit-learn time : 0.03 s'"
      ]
     },
     "execution_count": 34,
     "metadata": {},
     "output_type": "execute_result"
    }
   ],
   "source": [
    "from sklearn.linear_model import LinearRegression\n",
    "from timeit import default_timer as timer\n",
    "params = {\"n_jobs\":-1,\"copy_X\":False}\n",
    "start=timer()\n",
    "model = LinearRegression(**params).fit(x_train,y_train)\n",
    "train_patched = timer()-start\n",
    "f\"Intel extension for Scikit-learn time : {train_patched:.2f} s\""
   ]
  },
  {
   "cell_type": "code",
   "execution_count": 35,
   "id": "a2ed0b60-8e94-4953-a1b7-d95a5a2c6ddf",
   "metadata": {},
   "outputs": [
    {
     "data": {
      "text/plain": [
       "'Patched Scikit-learn MSE: (msc_metric_optimiz)'"
      ]
     },
     "execution_count": 35,
     "metadata": {},
     "output_type": "execute_result"
    }
   ],
   "source": [
    "y_pred = model.predict(x_test)\n",
    "msc_metric_optimiz = metrics.mean_squared_error(y_test,y_pred)\n",
    "f\"Patched Scikit-learn MSE: (msc_metric_optimiz)\""
   ]
  },
  {
   "cell_type": "code",
   "execution_count": 36,
   "id": "b7ce674a-e3ec-40c9-a21a-4806135c1516",
   "metadata": {},
   "outputs": [],
   "source": [
    "#Train the same algorithm with original Scikit learn\n",
    "#we use unpatch_sklearn and re import linear regression"
   ]
  },
  {
   "cell_type": "code",
   "execution_count": 37,
   "id": "c97409cc-4cd3-4e40-a80b-b3ea5fe2c484",
   "metadata": {},
   "outputs": [],
   "source": [
    "from sklearnex import unpatch_sklearn\n",
    "unpatch_sklearn()"
   ]
  },
  {
   "cell_type": "code",
   "execution_count": 38,
   "id": "2e417ad1-ebe4-45b2-a5c7-35f70f67869f",
   "metadata": {},
   "outputs": [
    {
     "data": {
      "text/plain": [
       "'original scikit-learn timer: 0.03 s'"
      ]
     },
     "execution_count": 38,
     "metadata": {},
     "output_type": "execute_result"
    }
   ],
   "source": [
    "from sklearn.linear_model import LinearRegression\n",
    "start=timer()\n",
    "model=LinearRegression(**params).fit(x_train,y_train)\n",
    "train_unpatched = timer()-start\n",
    "f\"original scikit-learn timer: {train_patched:.2f} s\""
   ]
  },
  {
   "cell_type": "code",
   "execution_count": 39,
   "id": "3215f1c4-9638-4c85-88b9-b2af4332d427",
   "metadata": {},
   "outputs": [
    {
     "data": {
      "text/plain": [
       "'original scikit-learn MSE : 0.7761803269386292'"
      ]
     },
     "execution_count": 39,
     "metadata": {},
     "output_type": "execute_result"
    }
   ],
   "source": [
    "y_pred=model.predict(x_test)\n",
    "msc_metrc_original=metrics.mean_squared_error(y_test,y_pred)\n",
    "f\"original scikit-learn MSE : {msc_metrc_original}\""
   ]
  },
  {
   "cell_type": "code",
   "execution_count": 40,
   "id": "b20a5dd9-7ee7-4f51-bf17-0a003e684795",
   "metadata": {},
   "outputs": [
    {
     "data": {
      "text/plain": [
       "'Got a speedup of 50.26 times faster'"
      ]
     },
     "execution_count": 40,
     "metadata": {},
     "output_type": "execute_result"
    }
   ],
   "source": [
    "f\"Got a speedup of {(train_unpatched/train_patched):.2f} times faster\""
   ]
  },
  {
   "cell_type": "code",
   "execution_count": null,
   "id": "bcfc64f8-3271-4eaa-b6ce-9d9aa604ff35",
   "metadata": {},
   "outputs": [],
   "source": []
  }
 ],
 "metadata": {
  "kernelspec": {
   "display_name": "Python 3 (ipykernel)",
   "language": "python",
   "name": "python3"
  },
  "language_info": {
   "codemirror_mode": {
    "name": "ipython",
    "version": 3
   },
   "file_extension": ".py",
   "mimetype": "text/x-python",
   "name": "python",
   "nbconvert_exporter": "python",
   "pygments_lexer": "ipython3",
   "version": "3.9.18"
  }
 },
 "nbformat": 4,
 "nbformat_minor": 5
}
