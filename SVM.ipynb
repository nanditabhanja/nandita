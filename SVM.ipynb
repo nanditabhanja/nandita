{
 "cells": [
  {
   "cell_type": "code",
   "execution_count": 13,
   "id": "d818ed76-c8c6-4354-9eb2-9c64bf91c65f",
   "metadata": {},
   "outputs": [],
   "source": [
    "from sklearn.datasets import fetch_openml"
   ]
  },
  {
   "cell_type": "code",
   "execution_count": 14,
   "id": "b0f59bec-5000-4fc2-b83d-b06f6b5e6310",
   "metadata": {},
   "outputs": [],
   "source": [
    "x,y = fetch_openml(name=\"a9a\",return_X_y=True)"
   ]
  },
  {
   "cell_type": "code",
   "execution_count": 15,
   "id": "8bbeda2b-1fbb-40e9-bb0c-8fa2394e843d",
   "metadata": {},
   "outputs": [
    {
     "data": {
      "text/plain": [
       "<48842x123 sparse matrix of type '<class 'numpy.float64'>'\n",
       "\twith 677323 stored elements in Compressed Sparse Row format>"
      ]
     },
     "execution_count": 15,
     "metadata": {},
     "output_type": "execute_result"
    }
   ],
   "source": [
    "x"
   ]
  },
  {
   "cell_type": "code",
   "execution_count": 16,
   "id": "a9b6fdcd-e6db-4f2a-968a-6947104d2adb",
   "metadata": {},
   "outputs": [],
   "source": [
    "from sklearn.model_selection import train_test_split\n",
    "x_train,x_test,y_train,y_test=train_test_split(x,y,test_size=0.2, random_state=0)"
   ]
  },
  {
   "cell_type": "code",
   "execution_count": 17,
   "id": "13540691-de67-4387-bc9f-f79e221b33bb",
   "metadata": {},
   "outputs": [
    {
     "name": "stderr",
     "output_type": "stream",
     "text": [
      "Intel(R) Extension for Scikit-learn* enabled (https://github.com/intel/scikit-learn-intelex)\n"
     ]
    }
   ],
   "source": [
    "from sklearnex import patch_sklearn\n",
    "patch_sklearn()"
   ]
  },
  {
   "cell_type": "code",
   "execution_count": 18,
   "id": "a5a5b12d-b4f7-499c-b4f7-f54e9f329454",
   "metadata": {},
   "outputs": [
    {
     "data": {
      "text/plain": [
       "'Intel extension for Sckilit learn time: 47.52 s'"
      ]
     },
     "execution_count": 18,
     "metadata": {},
     "output_type": "execute_result"
    }
   ],
   "source": [
    "from sklearn.svm import SVC\n",
    "from timeit import default_timer as timer\n",
    "params = {\"kernel\":\"rbf\", \"C\" : 100, \"gamma\" : \"scale\"}  #scale sets gamma value to 1\n",
    "start=timer()\n",
    "classifier = SVC(**params).fit(x_train,y_train)\n",
    "train_patched=timer()-start\n",
    "f\"Intel extension for Sckilit learn time: {train_patched:.2f} s\""
   ]
  },
  {
   "cell_type": "code",
   "execution_count": 19,
   "id": "4b595006-8eab-43a0-80c8-4505e88ca1fc",
   "metadata": {},
   "outputs": [
    {
     "name": "stdout",
     "output_type": "stream",
     "text": [
      "Classification report for Intel extension for Scikit learn SVC: \n",
      "               precision    recall  f1-score   support\n",
      "\n",
      "        -1.0       0.88      0.89      0.88      3755\n",
      "         1.0       0.62      0.59      0.61      1130\n",
      "\n",
      "    accuracy                           0.82      4885\n",
      "   macro avg       0.75      0.74      0.75      4885\n",
      "weighted avg       0.82      0.82      0.82      4885\n",
      "\n"
     ]
    }
   ],
   "source": [
    "#prediction\n",
    "predicted = classifier.predict(x_test)\n",
    "from sklearn import metrics\n",
    "report = metrics.classification_report(y_test,predicted)\n",
    "print(f\"Classification report for Intel extension for Scikit learn SVC: \\n {report}\")"
   ]
  },
  {
   "cell_type": "code",
   "execution_count": 20,
   "id": "c9258d8a-314a-42a8-86b9-621b54c918bd",
   "metadata": {},
   "outputs": [],
   "source": [
    "#Train the same with original scikit learn\n",
    "#use unpatch_sklearn"
   ]
  },
  {
   "cell_type": "code",
   "execution_count": 22,
   "id": "1668a78a-63a2-487c-9e03-306b4817e250",
   "metadata": {},
   "outputs": [],
   "source": [
    "from sklearnex import unpatch_sklearn\n",
    "unpatch_sklearn()"
   ]
  },
  {
   "cell_type": "code",
   "execution_count": 23,
   "id": "7596cd79-bcbc-481c-847c-27dad0e88406",
   "metadata": {},
   "outputs": [
    {
     "data": {
      "text/plain": [
       "' Original Scikit-learn time : 1121.93 s'"
      ]
     },
     "execution_count": 23,
     "metadata": {},
     "output_type": "execute_result"
    }
   ],
   "source": [
    "from sklearn.svm import SVC\n",
    "start=timer()\n",
    "classifier = SVC(**params).fit(x_train,y_train)\n",
    "train_unpatched=timer()-start\n",
    "f\" Original Scikit-learn time : {train_unpatched:.2f} s\""
   ]
  },
  {
   "cell_type": "code",
   "execution_count": 24,
   "id": "7542655f-ac04-469b-9ddf-8226f6abf480",
   "metadata": {},
   "outputs": [
    {
     "name": "stdout",
     "output_type": "stream",
     "text": [
      "Classification report for Intel extension for Scikit learn SVC: \n",
      "               precision    recall  f1-score   support\n",
      "\n",
      "        -1.0       0.88      0.89      0.88      3755\n",
      "         1.0       0.62      0.59      0.61      1130\n",
      "\n",
      "    accuracy                           0.82      4885\n",
      "   macro avg       0.75      0.74      0.75      4885\n",
      "weighted avg       0.82      0.82      0.82      4885\n",
      "\n"
     ]
    }
   ],
   "source": [
    "from sklearn import metrics\n",
    "predicted = classifier.predict(x_test)\n",
    "from sklearn import metrics\n",
    "report = metrics.classification_report(y_test,predicted)\n",
    "print(f\"Classification report for Intel extension for Scikit learn SVC: \\n {report}\")"
   ]
  },
  {
   "cell_type": "code",
   "execution_count": null,
   "id": "93e2b42b-73ec-4b16-a571-1a2aea24d4f1",
   "metadata": {},
   "outputs": [],
   "source": []
  }
 ],
 "metadata": {
  "kernelspec": {
   "display_name": "Python 3 (ipykernel)",
   "language": "python",
   "name": "python3"
  },
  "language_info": {
   "codemirror_mode": {
    "name": "ipython",
    "version": 3
   },
   "file_extension": ".py",
   "mimetype": "text/x-python",
   "name": "python",
   "nbconvert_exporter": "python",
   "pygments_lexer": "ipython3",
   "version": "3.9.18"
  }
 },
 "nbformat": 4,
 "nbformat_minor": 5
}
